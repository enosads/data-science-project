{
 "cells": [
  {
   "cell_type": "markdown",
   "source": [
    "### 1. Yahoo Finance\n",
    "- Dados da cotação de ações brasileiras e estrangeiras\n",
    "- Balanço patrimonial das em empresas e o fluxo de caixa\n",
    "- Imformações estatísticas e distribuição acionárias\n",
    "- Cotação do dolar e índices"
   ],
   "metadata": {
    "collapsed": false,
    "pycharm": {
     "name": "#%% md\n"
    }
   }
  },
  {
   "cell_type": "code",
   "execution_count": 28,
   "metadata": {
    "collapsed": true,
    "pycharm": {
     "name": "#%%\n"
    }
   },
   "outputs": [
    {
     "data": {
      "text/plain": "                 Open       High        Low      Close    Volume  Dividends  \\\nDate                                                                          \n2013-04-01  11.586391  11.656149  11.427847  11.434189  15544900        0.0   \n2013-04-02  11.586395  11.656153  11.205889  11.224915  20565900        0.0   \n2013-04-03  11.212231  11.427851  11.212231  11.415167  15685100        0.0   \n2013-04-04  11.383456  11.548341  11.224912  11.231253  19446600        0.0   \n2013-04-05  11.148813  11.358091  11.129787  11.288331  17060000        0.0   \n...               ...        ...        ...        ...       ...        ...   \n2022-04-25  29.969999  30.440001  29.540001  30.110001  66413900        0.0   \n2022-04-26  30.110001  30.580000  29.889999  30.059999  48764100        0.0   \n2022-04-27  30.370001  30.559999  29.950001  30.059999  41881300        0.0   \n2022-04-28  30.450001  30.620001  30.250000  30.260000  43298500        0.0   \n2022-04-29  30.750000  31.590000  30.280001  30.280001  76243900        0.0   \n\n            Stock Splits  \nDate                      \n2013-04-01             0  \n2013-04-02             0  \n2013-04-03             0  \n2013-04-04             0  \n2013-04-05             0  \n...                  ...  \n2022-04-25             0  \n2022-04-26             0  \n2022-04-27             0  \n2022-04-28             0  \n2022-04-29             0  \n\n[2256 rows x 7 columns]",
      "text/html": "<div>\n<style scoped>\n    .dataframe tbody tr th:only-of-type {\n        vertical-align: middle;\n    }\n\n    .dataframe tbody tr th {\n        vertical-align: top;\n    }\n\n    .dataframe thead th {\n        text-align: right;\n    }\n</style>\n<table border=\"1\" class=\"dataframe\">\n  <thead>\n    <tr style=\"text-align: right;\">\n      <th></th>\n      <th>Open</th>\n      <th>High</th>\n      <th>Low</th>\n      <th>Close</th>\n      <th>Volume</th>\n      <th>Dividends</th>\n      <th>Stock Splits</th>\n    </tr>\n    <tr>\n      <th>Date</th>\n      <th></th>\n      <th></th>\n      <th></th>\n      <th></th>\n      <th></th>\n      <th></th>\n      <th></th>\n    </tr>\n  </thead>\n  <tbody>\n    <tr>\n      <th>2013-04-01</th>\n      <td>11.586391</td>\n      <td>11.656149</td>\n      <td>11.427847</td>\n      <td>11.434189</td>\n      <td>15544900</td>\n      <td>0.0</td>\n      <td>0</td>\n    </tr>\n    <tr>\n      <th>2013-04-02</th>\n      <td>11.586395</td>\n      <td>11.656153</td>\n      <td>11.205889</td>\n      <td>11.224915</td>\n      <td>20565900</td>\n      <td>0.0</td>\n      <td>0</td>\n    </tr>\n    <tr>\n      <th>2013-04-03</th>\n      <td>11.212231</td>\n      <td>11.427851</td>\n      <td>11.212231</td>\n      <td>11.415167</td>\n      <td>15685100</td>\n      <td>0.0</td>\n      <td>0</td>\n    </tr>\n    <tr>\n      <th>2013-04-04</th>\n      <td>11.383456</td>\n      <td>11.548341</td>\n      <td>11.224912</td>\n      <td>11.231253</td>\n      <td>19446600</td>\n      <td>0.0</td>\n      <td>0</td>\n    </tr>\n    <tr>\n      <th>2013-04-05</th>\n      <td>11.148813</td>\n      <td>11.358091</td>\n      <td>11.129787</td>\n      <td>11.288331</td>\n      <td>17060000</td>\n      <td>0.0</td>\n      <td>0</td>\n    </tr>\n    <tr>\n      <th>...</th>\n      <td>...</td>\n      <td>...</td>\n      <td>...</td>\n      <td>...</td>\n      <td>...</td>\n      <td>...</td>\n      <td>...</td>\n    </tr>\n    <tr>\n      <th>2022-04-25</th>\n      <td>29.969999</td>\n      <td>30.440001</td>\n      <td>29.540001</td>\n      <td>30.110001</td>\n      <td>66413900</td>\n      <td>0.0</td>\n      <td>0</td>\n    </tr>\n    <tr>\n      <th>2022-04-26</th>\n      <td>30.110001</td>\n      <td>30.580000</td>\n      <td>29.889999</td>\n      <td>30.059999</td>\n      <td>48764100</td>\n      <td>0.0</td>\n      <td>0</td>\n    </tr>\n    <tr>\n      <th>2022-04-27</th>\n      <td>30.370001</td>\n      <td>30.559999</td>\n      <td>29.950001</td>\n      <td>30.059999</td>\n      <td>41881300</td>\n      <td>0.0</td>\n      <td>0</td>\n    </tr>\n    <tr>\n      <th>2022-04-28</th>\n      <td>30.450001</td>\n      <td>30.620001</td>\n      <td>30.250000</td>\n      <td>30.260000</td>\n      <td>43298500</td>\n      <td>0.0</td>\n      <td>0</td>\n    </tr>\n    <tr>\n      <th>2022-04-29</th>\n      <td>30.750000</td>\n      <td>31.590000</td>\n      <td>30.280001</td>\n      <td>30.280001</td>\n      <td>76243900</td>\n      <td>0.0</td>\n      <td>0</td>\n    </tr>\n  </tbody>\n</table>\n<p>2256 rows × 7 columns</p>\n</div>"
     },
     "execution_count": 28,
     "metadata": {},
     "output_type": "execute_result"
    }
   ],
   "source": [
    "import yfinance as yf\n",
    "tickerSymbol = 'PETR4.SA'\n",
    "tickerData = yf.Ticker(tickerSymbol)\n",
    "tickerDf = tickerData.history(period='1d', start='2013-04-01', end='2022-04-30')\n",
    "# tickerDf = tickerData.history(period='1d', interval='1m')\n",
    "tickerDf"
   ]
  },
  {
   "cell_type": "markdown",
   "source": [
    "### 2.Insvestpy\n",
    "- Dados do investing.com\n",
    "- 39952 ações (nacionais e internacionais)\n",
    "- 82221 fundos\n",
    "- 11403 fundos\n",
    "- 7797 índices\n",
    "- 2029 cruzamento de moedas"
   ],
   "metadata": {
    "collapsed": false,
    "pycharm": {
     "name": "#%% md\n"
    }
   }
  },
  {
   "cell_type": "code",
   "execution_count": 29,
   "outputs": [],
   "source": [
    "import investpy as iv"
   ],
   "metadata": {
    "collapsed": false,
    "pycharm": {
     "name": "#%%\n"
    }
   }
  },
  {
   "cell_type": "code",
   "execution_count": null,
   "outputs": [],
   "source": [
    "df = iv.get_stock_historical_data(\n",
    "    stock='PETR4',\n",
    "    country='brazil',\n",
    "    from_date='01/04/2022',\n",
    "    to_date='30/04/2022',\n",
    "    interval='Daily')\n",
    "df"
   ],
   "metadata": {
    "collapsed": false,
    "pycharm": {
     "name": "#%%\n",
     "is_executing": true
    }
   }
  },
  {
   "cell_type": "markdown",
   "source": [
    "### 3. Quandl\n",
    "- Dados financeiros, econômicos e alternativos\n",
    "- link: [https://www.quandl.com/](https://www.quandl.com/)\n",
    "- Precisa gerar um token no site"
   ],
   "metadata": {
    "collapsed": false,
    "pycharm": {
     "name": "#%% md\n"
    }
   }
  },
  {
   "cell_type": "code",
   "execution_count": null,
   "outputs": [],
   "source": [
    "import quandl"
   ],
   "metadata": {
    "collapsed": false,
    "pycharm": {
     "name": "#%%\n",
     "is_executing": true
    }
   }
  },
  {
   "cell_type": "code",
   "execution_count": null,
   "outputs": [],
   "source": [
    "f = open('quandl_api_key.txt', 'r')\n",
    "api_key = f.read()"
   ],
   "metadata": {
    "collapsed": false,
    "pycharm": {
     "name": "#%%\n",
     "is_executing": true
    }
   }
  },
  {
   "cell_type": "code",
   "execution_count": null,
   "outputs": [],
   "source": [
    "data = quandl.get(\n",
    "    'BSE/BOM500180',\n",
    "    authtoken=api_key)\n",
    "data"
   ],
   "metadata": {
    "collapsed": false,
    "pycharm": {
     "name": "#%%\n",
     "is_executing": true
    }
   }
  },
  {
   "cell_type": "code",
   "execution_count": null,
   "outputs": [],
   "source": [
    "data = quandl.get_table('WIKI/PRICES',\n",
    "                        ticker=['AAPL', 'MSFT', ],\n",
    "                        qopts={'columns': ['ticker', 'date', 'adj_close']},\n",
    "                        date={'gte': '2016-01-01', 'lte': '2016-12-31'},\n",
    "                        paginate=True)\n",
    "data"
   ],
   "metadata": {
    "collapsed": false,
    "pycharm": {
     "name": "#%%\n",
     "is_executing": true
    }
   }
  },
  {
   "cell_type": "markdown",
   "source": [
    "### 4. Pandas Reader\n",
    "- Extrair recursos da internet para um pandas dataframe\n",
    "- link: [https://pandas-datareader.readthedocs.io/latest/remore_data.html](https://pandas-datareader.readthedocs.io/latest/remore_data.html)\n",
    "- Resources:\n",
    "    - Yahoo Finance\n",
    "    - IEX\n",
    "    - Alpha Vantage\n",
    "    - Stooq"
   ],
   "metadata": {
    "collapsed": false,
    "pycharm": {
     "name": "#%% md\n"
    }
   }
  },
  {
   "cell_type": "code",
   "execution_count": null,
   "outputs": [],
   "source": [
    "from pandas_datareader.famafrench import get_available_datasets\n",
    "from pandas_datareader import data"
   ],
   "metadata": {
    "collapsed": false,
    "pycharm": {
     "name": "#%%\n",
     "is_executing": true
    }
   }
  },
  {
   "cell_type": "code",
   "execution_count": null,
   "outputs": [],
   "source": [
    "datasets = get_available_datasets()\n",
    "datasets"
   ],
   "metadata": {
    "collapsed": false,
    "pycharm": {
     "name": "#%%\n",
     "is_executing": true
    }
   }
  },
  {
   "cell_type": "code",
   "execution_count": null,
   "outputs": [],
   "source": [
    "tickers= ['AAPL', 'MSFT', 'GOOG', 'AMZN']\n",
    "start_date = '2017-01-01'\n",
    "end_date = '2021-12-31'\n",
    "dados = data.DataReader(tickers, 'yahoo', start_date, end_date)\n",
    "dados"
   ],
   "metadata": {
    "collapsed": false,
    "pycharm": {
     "name": "#%%\n",
     "is_executing": true
    }
   }
  },
  {
   "cell_type": "markdown",
   "source": [
    "### 5. Pandas Finance\n",
    "Não funcionou :("
   ],
   "metadata": {
    "collapsed": false,
    "pycharm": {
     "name": "#%% md\n"
    }
   }
  },
  {
   "cell_type": "code",
   "execution_count": null,
   "outputs": [],
   "source": [
    "from pandas_finance import Equity\n",
    "aapl = Equity('AAPL')\n",
    "aapl.annual_dividend\n",
    "aapl.dividend_yield\n",
    "aapl.price\n",
    "aapl.options\n",
    "aapl.hist_vol(30)\n",
    "aapl.rolling_hist_vol(30)"
   ],
   "metadata": {
    "collapsed": false,
    "pycharm": {
     "name": "#%%\n",
     "is_executing": true
    }
   }
  }
 ],
 "metadata": {
  "kernelspec": {
   "display_name": "Python 3",
   "language": "python",
   "name": "python3"
  },
  "language_info": {
   "codemirror_mode": {
    "name": "ipython",
    "version": 2
   },
   "file_extension": ".py",
   "mimetype": "text/x-python",
   "name": "python",
   "nbconvert_exporter": "python",
   "pygments_lexer": "ipython2",
   "version": "2.7.6"
  }
 },
 "nbformat": 4,
 "nbformat_minor": 0
}